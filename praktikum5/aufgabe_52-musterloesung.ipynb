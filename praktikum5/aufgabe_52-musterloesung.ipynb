{
 "cells": [
  {
   "cell_type": "markdown",
   "metadata": {},
   "source": [
    "## Praktikum 5 _ Aufgabe 2\n",
    "Gegeben ist die folgende Funktion, die eine zufällig erstelle Liste zurückliefert. Die Dokumentation dieser Funktion ist verfügbar."
   ]
  },
  {
   "cell_type": "code",
   "execution_count": 1,
   "metadata": {},
   "outputs": [],
   "source": [
    "import random\n",
    "\n",
    "def create_list(max_length = 5, max_number = 10):\n",
    "    \"\"\" Erzeugt eine Liste mit nicht negativen ganzen Zahlen und gibt diese zurück.\n",
    "        max_length  gibt die maximale Anzahl von Elementen an\n",
    "        max_number  gibt den höchstmögliche Wert einer Zahl an \"\"\"\n",
    "    # leere Liste erzeugen\n",
    "    created_list = []\n",
    "    # maximale Anzahl Elemente zufaellig bestimmen\n",
    "    length = random.randint(0, max_length)\n",
    "    # length Elemente in die Liste schreiben\n",
    "    for i in range(0, length):\n",
    "        # Element zufaellig bestimmen\n",
    "        created_list.append(random.randint(0, max_number))\n",
    "    return created_list"
   ]
  },
  {
   "cell_type": "markdown",
   "metadata": {},
   "source": [
    "Schreibe ein Programm, dass diese Funktion prüft.\n",
    "Hierzu soll die Funktion ohne Parameter, mit nur einem Parameter und mit zwei Parametern aufgerufen werden."
   ]
  },
  {
   "cell_type": "code",
   "execution_count": 7,
   "metadata": {},
   "outputs": [
    {
     "name": "stdout",
     "output_type": "stream",
     "text": [
      "[7, 7, 3, 6, 9]\n",
      "[4, 0, 3, 0, 0, 7, 8]\n",
      "[2, 0, 0, 1, 3]\n",
      "[]\n"
     ]
    }
   ],
   "source": [
    "print(create_list())\n",
    "print(create_list(8))\n",
    "print(create_list(max_number = 3))\n",
    "print(create_list(0,0))"
   ]
  },
  {
   "cell_type": "markdown",
   "metadata": {},
   "source": [
    "Erweitere die Funktion so, dass nicht nur der höchstmögliche Wert eines Elements angegeben werden kann, sondern auch der kleinstmögliche Wert. Bisherige Funktionsaufrufe sollen wie gehabt funktionieren  – Teste auch diese modifizierte Funktion."
   ]
  },
  {
   "cell_type": "code",
   "execution_count": 8,
   "metadata": {},
   "outputs": [
    {
     "name": "stdout",
     "output_type": "stream",
     "text": [
      "[0]\n",
      "[9, 1, 9, 7, 1, 3, 9, 3]\n",
      "[1, 1]\n",
      "[]\n",
      "[4, 4, 7]\n",
      "[1, 1, 2, 3, 3, 1, 2, 8, 5]\n",
      "[10]\n",
      "[3, 7, 7, 5, 6]\n"
     ]
    }
   ],
   "source": [
    "import random\n",
    "\n",
    "def create_list(max_length = 5, min_number = 0, max_number = 10):\n",
    "    \"\"\" Erzeugt eine Liste mit nicht negativen ganzen Zahlen und gibt diese zurück.\n",
    "        max_length  gibt die maximale Anzahl von Elementen an\n",
    "        min_number  gibt den kleinstmöglichen Wert einer Zahl an\n",
    "        max_number  gibt den höchstmögliche Wert einer Zahl an \"\"\"\n",
    "    # leere Liste erzeugen\n",
    "    created_list = []\n",
    "    # maximale Anzahl Elemente zufaellig bestimmen\n",
    "    length = random.randint(0, max_length)\n",
    "    # length Elemente in die Liste schreiben\n",
    "    for i in range(0, length):\n",
    "        # Element zufaellig bestimmen\n",
    "        created_list.append(random.randint(min_number, max_number))\n",
    "    return created_list\n",
    "\n",
    "print(create_list())\n",
    "print(create_list(8))\n",
    "print(create_list(max_number = 3))\n",
    "print(create_list(0,0))\n",
    "\n",
    "print(create_list())\n",
    "print(create_list(9))\n",
    "print(create_list(2,5))\n",
    "print(create_list(min_number = 3))"
   ]
  },
  {
   "cell_type": "code",
   "execution_count": null,
   "metadata": {},
   "outputs": [],
   "source": []
  }
 ],
 "metadata": {
  "kernelspec": {
   "display_name": "Python 3",
   "language": "python",
   "name": "python3"
  },
  "language_info": {
   "codemirror_mode": {
    "name": "ipython",
    "version": 3
   },
   "file_extension": ".py",
   "mimetype": "text/x-python",
   "name": "python",
   "nbconvert_exporter": "python",
   "pygments_lexer": "ipython3",
   "version": "3.6.7"
  }
 },
 "nbformat": 4,
 "nbformat_minor": 4
}
