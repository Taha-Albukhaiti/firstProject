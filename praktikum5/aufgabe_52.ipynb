{
 "cells": [
  {
   "cell_type": "markdown",
   "metadata": {
    "pycharm": {
     "name": "#%% md\n"
    }
   },
   "source": [
    "## Praktikum 5 _ Aufgabe 2\n",
    "Gegeben ist die folgende Funktion, die eine zufällig erstelle Liste zurückliefert. Die Dokumentation dieser Funktion ist verfügbar."
   ]
  },
  {
   "cell_type": "code",
   "execution_count": 1,
   "metadata": {
    "pycharm": {
     "name": "#%%\n"
    }
   },
   "outputs": [
    {
     "name": "stdout",
     "output_type": "stream",
     "text": [
      "[7, 0, 5, 0, 1]\n",
      "[8, 2]\n",
      "[5]\n"
     ]
    }
   ],
   "source": [
    "import random\n",
    "\n",
    "def create_list(max_length = 5, max_number = 10):\n",
    "    \"\"\" Erzeugt eine Liste mit nicht negativen ganzen Zahlen und gibt diese zurück.\n",
    "        max_length  gibt die maximale Anzahl von Elementen an\n",
    "        max_number  gibt den höchstmögliche Wert einer Zahl an \"\"\"\n",
    "    # leere Liste erzeugen\n",
    "    created_list = []\n",
    "    # maximale Anzahl Elemente zufaellig bestimmen\n",
    "    length = random.randint(0, max_length)\n",
    "    # length Elemente in die Liste schreiben\n",
    "    for i in range(0, length):\n",
    "        # Element zufaellig bestimmen\n",
    "        created_list.append(random.randint(0, max_number))\n",
    "    return created_list\n",
    "\n",
    "print(create_list())\n",
    "print(create_list(2))\n",
    "print(create_list(2, 5))"
   ]
  },
  {
   "cell_type": "markdown",
   "metadata": {
    "pycharm": {
     "name": "#%% md\n"
    }
   },
   "source": [
    "Schreibe ein Programm, dass diese Funktion prüft.\n",
    "Hierzu soll die Funktion ohne Parameter, mit nur einem Parameter und mit zwei Parametern aufgerufen werden."
   ]
  },
  {
   "cell_type": "code",
   "execution_count": 2,
   "metadata": {
    "pycharm": {
     "name": "#%%\n"
    }
   },
   "outputs": [
    {
     "name": "stdout",
     "output_type": "stream",
     "text": [
      "[5, 4]\n",
      "[6, 8]\n",
      "[4]\n"
     ]
    }
   ],
   "source": [
    "print(create_list())\n",
    "print(create_list(2))\n",
    "print(create_list(2, 5))"
   ]
  },
  {
   "cell_type": "markdown",
   "metadata": {
    "pycharm": {
     "name": "#%% md\n"
    }
   },
   "source": [
    "Erweitere die Funktion so, dass nicht nur der höchstmögliche Wert eines Elements angegeben werden kann, sondern auch der kleinstmögliche Wert. Bisherige Funktionsaufrufe sollen wie gehabt funktionieren  – Teste auch diese modifizierte Funktion."
   ]
  },
  {
   "cell_type": "code",
   "execution_count": 17,
   "outputs": [
    {
     "name": "stdout",
     "output_type": "stream",
     "text": [
      "[8, 3, 9, 4]\n",
      "[6, 3, 7]\n",
      "[]\n"
     ]
    }
   ],
   "source": [
    "import random\n",
    "\n",
    "def create_list(min_number = 3,  max_length = 5, max_number = 10):\n",
    "    \"\"\" Erzeugt eine Liste mit nicht negativen ganzen Zahlen und gibt diese zurück.\n",
    "        max_length  gibt die maximale Anzahl von Elementen an\n",
    "        max_number  gibt den höchstmögliche Wert einer Zahl an \"\"\"\n",
    "    # leere Liste erzeugen\n",
    "    created_list = []\n",
    "    # maximale Anzahl Elemente zufaellig bestimmen\n",
    "    length = random.randint(0, max_length)\n",
    "    # length Elemente in die Liste schreiben\n",
    "    for i in range(0, length):\n",
    "        # Element zufaellig bestimmen\n",
    "        created_list.append(random.randint(min_number, max_number))\n",
    "    return created_list\n",
    "\n",
    "\n",
    "print(create_list())\n",
    "print(create_list(2))\n",
    "print(create_list(4, 1, 122))"
   ],
   "metadata": {
    "collapsed": false,
    "pycharm": {
     "name": "#%%\n"
    }
   }
  },
  {
   "cell_type": "code",
   "execution_count": 15,
   "outputs": [],
   "source": [],
   "metadata": {
    "collapsed": false,
    "pycharm": {
     "name": "#%%\n"
    }
   }
  },
  {
   "cell_type": "code",
   "execution_count": null,
   "outputs": [],
   "source": [],
   "metadata": {
    "collapsed": false,
    "pycharm": {
     "name": "#%%\n"
    }
   }
  }
 ],
 "metadata": {
  "kernelspec": {
   "display_name": "Python 3",
   "language": "python",
   "name": "python3"
  },
  "language_info": {
   "codemirror_mode": {
    "name": "ipython",
    "version": 3
   },
   "file_extension": ".py",
   "mimetype": "text/x-python",
   "name": "python",
   "nbconvert_exporter": "python",
   "pygments_lexer": "ipython3",
   "version": "3.6.7"
  }
 },
 "nbformat": 4,
 "nbformat_minor": 4
}