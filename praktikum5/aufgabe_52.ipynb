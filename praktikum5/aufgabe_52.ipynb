{
 "cells": [
  {
   "cell_type": "markdown",
   "metadata": {
    "pycharm": {
     "name": "#%% md\n"
    }
   },
   "source": [
    "## Praktikum 5 _ Aufgabe 2\n",
    "Gegeben ist die folgende Funktion, die eine zufällig erstelle Liste zurückliefert. Die Dokumentation dieser Funktion ist verfügbar."
   ]
  },
  {
   "cell_type": "code",
   "execution_count": 2,
   "metadata": {
    "pycharm": {
     "name": "#%%\n"
    }
   },
   "outputs": [
    {
     "name": "stdout",
     "output_type": "stream",
     "text": [
      "[9, 9]\n",
      "[]\n",
      "[5, 3]\n"
     ]
    }
   ],
   "source": [
    "import random\n",
    "\n",
    "def create_list(max_length = 5, max_number = 10):\n",
    "    \"\"\" Erzeugt eine Liste mit nicht negativen ganzen Zahlen und gibt diese zurück.\n",
    "        max_length  gibt die maximale Anzahl von Elementen an\n",
    "        max_number  gibt den höchstmögliche Wert einer Zahl an \"\"\"\n",
    "    # leere Liste erzeugen\n",
    "    created_list = []\n",
    "    # maximale Anzahl Elemente zufaellig bestimmen\n",
    "    length = random.randint(0, max_length)\n",
    "    # length Elemente in die Liste schreiben\n",
    "    for i in range(0, length):\n",
    "        # Element zufaellig bestimmen\n",
    "        created_list.append(random.randint(0, max_number))\n",
    "    return created_list\n",
    "\n",
    "print(create_list())\n",
    "print(create_list(2))\n",
    "print(create_list(2, 5))"
   ]
  },
  {
   "cell_type": "markdown",
   "metadata": {
    "pycharm": {
     "name": "#%% md\n"
    }
   },
   "source": [
    "Schreibe ein Programm, dass diese Funktion prüft.\n",
    "Hierzu soll die Funktion ohne Parameter, mit nur einem Parameter und mit zwei Parametern aufgerufen werden."
   ]
  },
  {
   "cell_type": "code",
   "execution_count": 1,
   "metadata": {
    "pycharm": {
     "name": "#%%\n"
    }
   },
   "outputs": [
    {
     "ename": "NameError",
     "evalue": "name 'create_list' is not defined",
     "output_type": "error",
     "traceback": [
      "\u001B[0;31m---------------------------------------------------------------------------\u001B[0m",
      "\u001B[0;31mNameError\u001B[0m                                 Traceback (most recent call last)",
      "Input \u001B[0;32mIn [1]\u001B[0m, in \u001B[0;36m<cell line: 1>\u001B[0;34m()\u001B[0m\n\u001B[0;32m----> 1\u001B[0m \u001B[38;5;28mprint\u001B[39m(\u001B[43mcreate_list\u001B[49m())\n\u001B[1;32m      2\u001B[0m \u001B[38;5;28mprint\u001B[39m(create_list(\u001B[38;5;241m2\u001B[39m))\n\u001B[1;32m      3\u001B[0m \u001B[38;5;28mprint\u001B[39m(create_list(\u001B[38;5;241m2\u001B[39m, \u001B[38;5;241m5\u001B[39m))\n",
      "\u001B[0;31mNameError\u001B[0m: name 'create_list' is not defined"
     ]
    }
   ],
   "source": []
  },
  {
   "cell_type": "markdown",
   "metadata": {
    "pycharm": {
     "name": "#%% md\n"
    }
   },
   "source": [
    "Erweitere die Funktion so, dass nicht nur der höchstmögliche Wert eines Elements angegeben werden kann, sondern auch der kleinstmögliche Wert. Bisherige Funktionsaufrufe sollen wie gehabt funktionieren  – Teste auch diese modifizierte Funktion."
   ]
  },
  {
   "cell_type": "code",
   "execution_count": 4,
   "outputs": [
    {
     "ename": "ValueError",
     "evalue": "zero step for randrange()",
     "output_type": "error",
     "traceback": [
      "\u001B[0;31m---------------------------------------------------------------------------\u001B[0m",
      "\u001B[0;31mValueError\u001B[0m                                Traceback (most recent call last)",
      "Input \u001B[0;32mIn [4]\u001B[0m, in \u001B[0;36m<cell line: 18>\u001B[0;34m()\u001B[0m\n\u001B[1;32m     14\u001B[0m         created_list\u001B[38;5;241m.\u001B[39mappend(random\u001B[38;5;241m.\u001B[39mrandint(\u001B[38;5;241m0\u001B[39m, max_number))\n\u001B[1;32m     15\u001B[0m     \u001B[38;5;28;01mreturn\u001B[39;00m created_list\n\u001B[0;32m---> 18\u001B[0m \u001B[38;5;28mprint\u001B[39m(\u001B[43mcreate_list\u001B[49m\u001B[43m(\u001B[49m\u001B[43m)\u001B[49m)\n\u001B[1;32m     19\u001B[0m \u001B[38;5;28mprint\u001B[39m(create_list(\u001B[38;5;241m2\u001B[39m))\n\u001B[1;32m     20\u001B[0m \u001B[38;5;28mprint\u001B[39m(create_list(\u001B[38;5;241m2\u001B[39m, \u001B[38;5;241m1\u001B[39m, \u001B[38;5;241m5\u001B[39m))\n",
      "Input \u001B[0;32mIn [4]\u001B[0m, in \u001B[0;36mcreate_list\u001B[0;34m(min_number, max_length, max_number)\u001B[0m\n\u001B[1;32m      8\u001B[0m created_list \u001B[38;5;241m=\u001B[39m []\n\u001B[1;32m      9\u001B[0m \u001B[38;5;66;03m# maximale Anzahl Elemente zufaellig bestimmen\u001B[39;00m\n\u001B[0;32m---> 10\u001B[0m length \u001B[38;5;241m=\u001B[39m \u001B[43mrandom\u001B[49m\u001B[38;5;241;43m.\u001B[39;49m\u001B[43mrandrange\u001B[49m\u001B[43m(\u001B[49m\u001B[43mmin_number\u001B[49m\u001B[43m,\u001B[49m\u001B[43m \u001B[49m\u001B[43mmax_number\u001B[49m\u001B[43m,\u001B[49m\u001B[43m \u001B[49m\u001B[38;5;241;43m0\u001B[39;49m\u001B[43m)\u001B[49m\n\u001B[1;32m     11\u001B[0m \u001B[38;5;66;03m# length Elemente in die Liste schreiben\u001B[39;00m\n\u001B[1;32m     12\u001B[0m \u001B[38;5;28;01mfor\u001B[39;00m i \u001B[38;5;129;01min\u001B[39;00m \u001B[38;5;28mrange\u001B[39m(\u001B[38;5;241m0\u001B[39m, length):\n\u001B[1;32m     13\u001B[0m     \u001B[38;5;66;03m# Element zufaellig bestimmen\u001B[39;00m\n",
      "File \u001B[0;32m/Library/Frameworks/Python.framework/Versions/3.9/lib/python3.9/random.py:328\u001B[0m, in \u001B[0;36mRandom.randrange\u001B[0;34m(self, start, stop, step)\u001B[0m\n\u001B[1;32m    326\u001B[0m     n \u001B[38;5;241m=\u001B[39m (width \u001B[38;5;241m+\u001B[39m istep \u001B[38;5;241m+\u001B[39m \u001B[38;5;241m1\u001B[39m) \u001B[38;5;241m/\u001B[39m\u001B[38;5;241m/\u001B[39m istep\n\u001B[1;32m    327\u001B[0m \u001B[38;5;28;01melse\u001B[39;00m:\n\u001B[0;32m--> 328\u001B[0m     \u001B[38;5;28;01mraise\u001B[39;00m \u001B[38;5;167;01mValueError\u001B[39;00m(\u001B[38;5;124m\"\u001B[39m\u001B[38;5;124mzero step for randrange()\u001B[39m\u001B[38;5;124m\"\u001B[39m)\n\u001B[1;32m    330\u001B[0m \u001B[38;5;28;01mif\u001B[39;00m n \u001B[38;5;241m<\u001B[39m\u001B[38;5;241m=\u001B[39m \u001B[38;5;241m0\u001B[39m:\n\u001B[1;32m    331\u001B[0m     \u001B[38;5;28;01mraise\u001B[39;00m \u001B[38;5;167;01mValueError\u001B[39;00m(\u001B[38;5;124m\"\u001B[39m\u001B[38;5;124mempty range for randrange()\u001B[39m\u001B[38;5;124m\"\u001B[39m)\n",
      "\u001B[0;31mValueError\u001B[0m: zero step for randrange()"
     ]
    }
   ],
   "source": [
    "import random\n",
    "\n",
    "def create_list(min_number =1,  max_length = 5, max_number = 10):\n",
    "    \"\"\" Erzeugt eine Liste mit nicht negativen ganzen Zahlen und gibt diese zurück.\n",
    "        max_length  gibt die maximale Anzahl von Elementen an\n",
    "        max_number  gibt den höchstmögliche Wert einer Zahl an \"\"\"\n",
    "    # leere Liste erzeugen\n",
    "    created_list = []\n",
    "    # maximale Anzahl Elemente zufaellig bestimmen\n",
    "    length = random.randrange(min_number, max_number, 0)\n",
    "    # length Elemente in die Liste schreiben\n",
    "    for i in range(0, length):\n",
    "        # Element zufaellig bestimmen\n",
    "        created_list.append(random.randint(0, max_number))\n",
    "    return created_list\n",
    "\n",
    "\n",
    "print(create_list())\n",
    "print(create_list(2))\n",
    "print(create_list(2, 1, 5))"
   ],
   "metadata": {
    "collapsed": false,
    "pycharm": {
     "name": "#%%\n"
    }
   }
  },
  {
   "cell_type": "code",
   "execution_count": null,
   "outputs": [],
   "source": [],
   "metadata": {
    "collapsed": false,
    "pycharm": {
     "name": "#%%\n"
    }
   }
  }
 ],
 "metadata": {
  "kernelspec": {
   "display_name": "Python 3",
   "language": "python",
   "name": "python3"
  },
  "language_info": {
   "codemirror_mode": {
    "name": "ipython",
    "version": 3
   },
   "file_extension": ".py",
   "mimetype": "text/x-python",
   "name": "python",
   "nbconvert_exporter": "python",
   "pygments_lexer": "ipython3",
   "version": "3.6.7"
  }
 },
 "nbformat": 4,
 "nbformat_minor": 4
}