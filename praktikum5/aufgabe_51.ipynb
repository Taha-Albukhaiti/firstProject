{
 "cells": [
  {
   "cell_type": "markdown",
   "metadata": {
    "pycharm": {
     "name": "#%% md\n"
    }
   },
   "source": [
    "## Praktikum 5 _ Aufgabe 1\n",
    "In einem Programm soll die Fakultät einer positiven ganzen Zahl *n* nach dem folgenden Schema bestimmt werden:\n",
    "\n",
    "- Der Benutzer gibt eine positive ganze Zahl ein, deren Fakultät berechnet werden soll.\n",
    "- Das Programm berechnet in einer iterativen und in einer rekursiven Funktion die Fakultät dieser Zahl und gibt die Ergebnisse aus.\n",
    "- Der Benutzer kann erneut eine positive ganze Zahl eingeben um eine Fakultät berechnen zu lassen, oder er gibt '-1' zur Beendigung des Programms ein.\n",
    "\n",
    "Hinweis: Die Fakultät einer Zahl *n* (*n!*, sprich \"*n* Fakultät\") berechnet sich wie folgt:<br>\n",
    "$ n! = 1 \\cdot 2 \\cdot 3 \\cdot 4 \\ \\cdot \\ ... \\ \\cdot \\ n $<br>\n",
    "Per Definition gilt außerdem $ 0! = 1 $"
   ]
  },
  {
   "cell_type": "code",
   "execution_count": 17,
   "outputs": [
    {
     "name": "stdout",
     "output_type": "stream",
     "text": [
      "123! = 12146304367025329675766243241881295855454217088483382315328918161829235892362167668831156960612640202170735835221294047782591091570411651472186029519906261646730733907419814952960000000000000000000000000000 (iterativ)\n",
      "123! = 12146304367025329675766243241881295855454217088483382315328918161829235892362167668831156960612640202170735835221294047782591091570411651472186029519906261646730733907419814952960000000000000000000000000000 (rekursiv)\n",
      "\n",
      "123! = 12146304367025329675766243241881295855454217088483382315328918161829235892362167668831156960612640202170735835221294047782591091570411651472186029519906261646730733907419814952960000000000000000000000000000 (iterativ)\n",
      "123! = 12146304367025329675766243241881295855454217088483382315328918161829235892362167668831156960612640202170735835221294047782591091570411651472186029519906261646730733907419814952960000000000000000000000000000 (rekursiv)\n",
      "\n"
     ]
    }
   ],
   "source": [
    "def faku(n):\n",
    "    if n == 1:\n",
    "        return n\n",
    "    else:\n",
    "        return n * faku(n - 1)\n",
    "\n",
    "\n",
    "def fakuItrativ(n):\n",
    "    fakultaet = 1\n",
    "    for i in range(1, n + 1):\n",
    "        fakultaet *= i\n",
    "    return fakultaet\n",
    "\n",
    "\n",
    "while (True):\n",
    "    n = int(input(\"Gib eine Zahl ein (-1 für Ende):\"))\n",
    "    if n == -1:\n",
    "        break\n",
    "    print(f\"{n}! = {fakuItrativ(n):d} (iterativ)\")\n",
    "    print(f\"{n}! = {faku(n):d} (rekursiv)\\n\")\n",
    "\n"
   ],
   "metadata": {
    "collapsed": false,
    "pycharm": {
     "name": "#%%\n"
    }
   }
  },
  {
   "cell_type": "code",
   "execution_count": null,
   "outputs": [],
   "source": [],
   "metadata": {
    "collapsed": false,
    "pycharm": {
     "name": "#%%\n"
    }
   }
  }
 ],
 "metadata": {
  "kernelspec": {
   "display_name": "Python 3",
   "language": "python",
   "name": "python3"
  },
  "language_info": {
   "codemirror_mode": {
    "name": "ipython",
    "version": 3
   },
   "file_extension": ".py",
   "mimetype": "text/x-python",
   "name": "python",
   "nbconvert_exporter": "python",
   "pygments_lexer": "ipython3",
   "version": "3.6.7"
  }
 },
 "nbformat": 4,
 "nbformat_minor": 4
}