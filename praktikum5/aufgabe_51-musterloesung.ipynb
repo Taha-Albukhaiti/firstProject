{
 "cells": [
  {
   "cell_type": "markdown",
   "metadata": {
    "pycharm": {
     "name": "#%% md\n"
    }
   },
   "source": [
    "## Praktikum 5 _ Aufgabe 1\n",
    "In einem Programm soll die Fakultät einer positiven ganzen Zahl *n* nach dem folgenden Schema bestimmt werden:\n",
    "\n",
    "- Der Benutzer gibt eine positive ganze Zahl ein, deren Fakultät berechnet werden soll.\n",
    "- Das Programm berechnet in einer iterativen und in einer rekursiven Funktion die Fakultät dieser Zahl und gibt die Ergebnisse aus.\n",
    "- Der Benutzer kann erneut eine positive ganze Zahl eingeben um eine Fakultät berechnen zu lassen, oder er gibt '-1' zur Beendigung des Programms ein.\n",
    "\n",
    "Hinweis: Die Fakultät einer Zahl *n* (*n!*, sprich \"*n* Fakultät\") berechnet sich wie folgt:<br>\n",
    "$ n! = 1 \\cdot 2 \\cdot 3 \\cdot 4 \\ \\cdot \\ ... \\ \\cdot \\ n $<br>\n",
    "Per Definition gilt außerdem $ 0! = 1 $"
   ]
  },
  {
   "cell_type": "code",
   "execution_count": 1,
   "metadata": {
    "pycharm": {
     "name": "#%%\n"
    }
   },
   "outputs": [
    {
     "name": "stdin",
     "output_type": "stream",
     "text": [
      "Gib eine Zahl ein (-1 für Ende): 4\n"
     ]
    },
    {
     "name": "stdout",
     "output_type": "stream",
     "text": [
      "4! = 24 (iterativ)\n",
      "4! = 24 (rekursiv)\n",
      "\n"
     ]
    },
    {
     "name": "stdin",
     "output_type": "stream",
     "text": [
      "Gib eine Zahl ein (-1 für Ende): 6\n"
     ]
    },
    {
     "name": "stdout",
     "output_type": "stream",
     "text": [
      "6! = 720 (iterativ)\n",
      "6! = 720 (rekursiv)\n",
      "\n"
     ]
    },
    {
     "name": "stdin",
     "output_type": "stream",
     "text": [
      "Gib eine Zahl ein (-1 für Ende): 1\n"
     ]
    },
    {
     "name": "stdout",
     "output_type": "stream",
     "text": [
      "1! = 1 (iterativ)\n",
      "1! = 1 (rekursiv)\n",
      "\n"
     ]
    },
    {
     "name": "stdin",
     "output_type": "stream",
     "text": [
      "Gib eine Zahl ein (-1 für Ende): 0\n"
     ]
    },
    {
     "name": "stdout",
     "output_type": "stream",
     "text": [
      "0! = 1 (iterativ)\n",
      "0! = 1 (rekursiv)\n",
      "\n"
     ]
    },
    {
     "name": "stdin",
     "output_type": "stream",
     "text": [
      "Gib eine Zahl ein (-1 für Ende): -1\n"
     ]
    }
   ],
   "source": [
    "def fakultaet_iterativ(n):\n",
    "    fakultaet = 1\n",
    "    for i in range(1, n + 1):\n",
    "        fakultaet *= i\n",
    "    return fakultaet\n",
    "\n",
    "def fakultaet_rekursiv(n):\n",
    "    if n == 0:\n",
    "        return 1\n",
    "    return n * fakultaet_rekursiv(n - 1)\n",
    "\n",
    "# Hier steht der die Funktionen aufrufende Code\n",
    "while True:\n",
    "    n = int(input(\"Gib eine Zahl ein (-1 für Ende):\"))\n",
    "    if n == -1:\n",
    "        break\n",
    "    print(f\"{n}! = {fakultaet_iterativ(n):d} (iterativ)\")\n",
    "    print(f\"{n}! = {fakultaet_rekursiv(n):d} (rekursiv)\\n\")"
   ]
  },
  {
   "cell_type": "code",
   "execution_count": null,
   "metadata": {
    "pycharm": {
     "name": "#%%\n"
    }
   },
   "outputs": [],
   "source": []
  }
 ],
 "metadata": {
  "kernelspec": {
   "display_name": "Python 3",
   "language": "python",
   "name": "python3"
  },
  "language_info": {
   "codemirror_mode": {
    "name": "ipython",
    "version": 3
   },
   "file_extension": ".py",
   "mimetype": "text/x-python",
   "name": "python",
   "nbconvert_exporter": "python",
   "pygments_lexer": "ipython3",
   "version": "3.6.7"
  }
 },
 "nbformat": 4,
 "nbformat_minor": 4
}