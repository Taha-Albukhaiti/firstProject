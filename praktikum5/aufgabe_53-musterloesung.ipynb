{
 "cells": [
  {
   "cell_type": "markdown",
   "metadata": {
    "pycharm": {
     "name": "#%% md\n"
    }
   },
   "source": [
    "## Praktikum 5 _ Aufgabe 3\n",
    "Es ist ein Programm mit den folgenden Vorgaben zu schreiben:\n",
    "\n",
    "- Das Programm erzeugt eine zufällige Liste nicht negativer ganzer Zahlen und gibt diese aus.\n",
    "- Aus dem Programm wird diese Liste an eine Funktion `fakultaeten` übergeben.\n",
    "- Innerhalb dieser Funktion wird für jeden Wert in dieser Liste die Fakultät berechnet und in einer neuen Liste gespeichert.\n",
    "- Diese Liste wird an den aufrufenden Code zurückgeliefert.\n",
    "- Verwende zur Lösung dieser Aufgabe die bereits bestehenden Funktionen `create_list` und `fakultaet_rekursiv`."
   ]
  },
  {
   "cell_type": "code",
   "execution_count": 1,
   "outputs": [
    {
     "name": "stdout",
     "output_type": "stream",
     "text": [
      "Liste:      [5, 3, 1, 2, 5, 1, 3, 3, 4, 3, 1, 2, 4, 5, 2, 4, 2, 0, 0, 1]\n",
      "Fakultäten: [120, 6, 1, 2, 120, 1, 6, 6, 24, 6, 1, 2, 24, 120, 2, 24, 2, 1, 1, 1]\n"
     ]
    }
   ],
   "source": [
    "import random\n",
    "\n",
    "def create_list(max_length = 5, min_number = 0, max_number = 10):\n",
    "    \"\"\" Erzeugt eine Liste mit nicht negativen ganzen Zahlen und gibt diese zurück.\n",
    "        max_length  gibt die maximale Anzahl von Elementen an\n",
    "        min_number  gibt den kleinstmöglichen Wert einer Zahl an\n",
    "        max_number  gibt den höchstmögliche Wert einer Zahl an \"\"\"\n",
    "    # leere Liste erzeugen\n",
    "    created_list = []\n",
    "    # maximale Anzahl Elemente zufaellig bestimmen\n",
    "    length = random.randint(0, max_length)\n",
    "    # length Elemente in die Liste schreiben\n",
    "    for i in range(0, length):\n",
    "        # Element zufaellig bestimmen\n",
    "        created_list.append(random.randint(min_number, max_number))\n",
    "    return created_list\n",
    "\n",
    "def fakultaet_rekursiv(n):\n",
    "    if n == 0:\n",
    "        return 1\n",
    "    return n * fakultaet_rekursiv(n - 1)\n",
    "\n",
    "def fakultaeten(*werte):\n",
    "    fakultaeten = []\n",
    "    for n in werte:\n",
    "        fakultaeten.append(fakultaet_rekursiv(n))\n",
    "    return fakultaeten\n",
    "\n",
    "liste = create_list(20, max_number = 5)\n",
    "print(f\"{'Liste:':11s} {liste}\")\n",
    "\n",
    "fakultaeten_liste = fakultaeten(*liste)\n",
    "print(f\"{'Fakultäten:':11s} {fakultaeten_liste}\")"
   ],
   "metadata": {
    "collapsed": false,
    "pycharm": {
     "name": "#%%\n"
    }
   }
  },
  {
   "cell_type": "code",
   "execution_count": null,
   "outputs": [],
   "source": [],
   "metadata": {
    "collapsed": false,
    "pycharm": {
     "name": "#%%\n"
    }
   }
  }
 ],
 "metadata": {
  "kernelspec": {
   "display_name": "Python 3",
   "language": "python",
   "name": "python3"
  },
  "language_info": {
   "codemirror_mode": {
    "name": "ipython",
    "version": 3
   },
   "file_extension": ".py",
   "mimetype": "text/x-python",
   "name": "python",
   "nbconvert_exporter": "python",
   "pygments_lexer": "ipython3",
   "version": "3.6.7"
  }
 },
 "nbformat": 4,
 "nbformat_minor": 4
}