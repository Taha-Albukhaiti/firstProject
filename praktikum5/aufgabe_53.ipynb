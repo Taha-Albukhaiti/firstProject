{
 "cells": [
  {
   "cell_type": "markdown",
   "metadata": {},
   "source": [
    "## Praktikum 5 _ Aufgabe 3\n",
    "Es ist ein Programm mit den folgenden Vorgaben zu schreiben:\n",
    "\n",
    "- Das Programm erzeugt eine zufällige Liste nicht negativer ganzer Zahlen und gibt diese aus.\n",
    "- Aus dem Programm wird diese Liste an eine Funktion `fakultaeten` übergeben.\n",
    "- Innerhalb dieser Funktion wird für jeden Wert in dieser Liste die Fakultät berechnet und in einer neuen Liste gespeichert.\n",
    "- Diese Liste wird an den aufrufenden Code zurückgeliefert.\n",
    "- Verwende zur Lösung dieser Aufgabe die bereits bestehenden Funktionen `create_list` und `fakultaet_rekursiv`."
   ]
  },
  {
   "cell_type": "code",
   "execution_count": null,
   "metadata": {},
   "outputs": [],
   "source": []
  }
 ],
 "metadata": {
  "kernelspec": {
   "display_name": "Python 3",
   "language": "python",
   "name": "python3"
  },
  "language_info": {
   "codemirror_mode": {
    "name": "ipython",
    "version": 3
   },
   "file_extension": ".py",
   "mimetype": "text/x-python",
   "name": "python",
   "nbconvert_exporter": "python",
   "pygments_lexer": "ipython3",
   "version": "3.6.7"
  }
 },
 "nbformat": 4,
 "nbformat_minor": 4
}
