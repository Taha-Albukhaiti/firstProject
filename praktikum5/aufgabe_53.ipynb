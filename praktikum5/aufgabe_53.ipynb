{
 "cells": [
  {
   "cell_type": "markdown",
   "metadata": {
    "pycharm": {
     "name": "#%% md\n"
    }
   },
   "source": [
    "## Praktikum 5 _ Aufgabe 3\n",
    "Es ist ein Programm mit den folgenden Vorgaben zu schreiben:\n",
    "\n",
    "- Das Programm erzeugt eine zufällige Liste nicht negativer ganzer Zahlen und gibt diese aus.\n",
    "- Aus dem Programm wird diese Liste an eine Funktion `fakultaeten` übergeben.\n",
    "- Innerhalb dieser Funktion wird für jeden Wert in dieser Liste die Fakultät berechnet und in einer neuen Liste gespeichert.\n",
    "- Diese Liste wird an den aufrufenden Code zurückgeliefert.\n",
    "- Verwende zur Lösung dieser Aufgabe die bereits bestehenden Funktionen `create_list` und `fakultaet_rekursiv`."
   ]
  },
  {
   "cell_type": "code",
   "execution_count": 5,
   "outputs": [
    {
     "name": "stdout",
     "output_type": "stream",
     "text": [
      "[]\n"
     ]
    },
    {
     "ename": "TypeError",
     "evalue": "'list' object is not an iterator",
     "output_type": "error",
     "traceback": [
      "\u001B[0;31m---------------------------------------------------------------------------\u001B[0m",
      "\u001B[0;31mTypeError\u001B[0m                                 Traceback (most recent call last)",
      "Input \u001B[0;32mIn [5]\u001B[0m, in \u001B[0;36m<cell line: 31>\u001B[0;34m()\u001B[0m\n\u001B[1;32m     29\u001B[0m \u001B[38;5;28mlist\u001B[39m \u001B[38;5;241m=\u001B[39m create_list()\n\u001B[1;32m     30\u001B[0m \u001B[38;5;28mprint\u001B[39m(\u001B[38;5;28mlist\u001B[39m)\n\u001B[0;32m---> 31\u001B[0m \u001B[38;5;28mprint\u001B[39m(\u001B[43mfaku\u001B[49m\u001B[43m(\u001B[49m\u001B[38;5;28;43mlist\u001B[39;49m\u001B[43m)\u001B[49m)\n",
      "Input \u001B[0;32mIn [5]\u001B[0m, in \u001B[0;36mfaku\u001B[0;34m(n)\u001B[0m\n\u001B[1;32m     20\u001B[0m \u001B[38;5;28;01mdef\u001B[39;00m \u001B[38;5;21mfaku\u001B[39m(n):\n\u001B[1;32m     21\u001B[0m     \u001B[38;5;28mlist\u001B[39m \u001B[38;5;241m=\u001B[39m []\n\u001B[0;32m---> 22\u001B[0m     \u001B[38;5;28;01mif\u001B[39;00m \u001B[38;5;28;43mnext\u001B[39;49m\u001B[43m(\u001B[49m\u001B[43mn\u001B[49m\u001B[43m)\u001B[49m \u001B[38;5;241m==\u001B[39m \u001B[38;5;241m1\u001B[39m:\n\u001B[1;32m     23\u001B[0m         \u001B[38;5;28mlist\u001B[39m \u001B[38;5;241m=\u001B[39m \u001B[38;5;241m1\u001B[39m\n\u001B[1;32m     24\u001B[0m     \u001B[38;5;28;01melse\u001B[39;00m:\n",
      "\u001B[0;31mTypeError\u001B[0m: 'list' object is not an iterator"
     ]
    }
   ],
   "source": [
    "import random\n",
    "\n",
    "\n",
    "def create_list(max_length=5, min_number=0, max_number=10):\n",
    "    \"\"\" Erzeugt eine Liste mit nicht negativen ganzen Zahlen und gibt diese zurück.\n",
    "        max_length  gibt die maximale Anzahl von Elementen an\n",
    "        min_number  gibt den kleinstmöglichen Wert einer Zahl an\n",
    "        max_number  gibt den höchstmögliche Wert einer Zahl an \"\"\"\n",
    "    # leere Liste erzeugen\n",
    "    created_list = []\n",
    "    # maximale Anzahl Elemente zufaellig bestimmen\n",
    "    length = random.randint(0, max_length)\n",
    "    # length Elemente in die Liste schreiben\n",
    "    for i in range(0, length):\n",
    "        # Element zufaellig bestimmen\n",
    "        created_list.append(random.randint(min_number, max_number))\n",
    "    return created_list\n",
    "\n",
    "\n",
    "def faku(n):\n",
    "    list = []\n",
    "    if next(n) == 1:\n",
    "        list = 1\n",
    "    else:\n",
    "        list = n * faku(n - 1)\n",
    "        return  list\n",
    "\n",
    "\n",
    "list = create_list()\n",
    "print(list)\n",
    "print(faku(list))"
   ],
   "metadata": {
    "collapsed": false,
    "pycharm": {
     "name": "#%%\n"
    }
   }
  },
  {
   "cell_type": "code",
   "execution_count": null,
   "outputs": [],
   "source": [],
   "metadata": {
    "collapsed": false,
    "pycharm": {
     "name": "#%%\n"
    }
   }
  }
 ],
 "metadata": {
  "kernelspec": {
   "display_name": "Python 3",
   "language": "python",
   "name": "python3"
  },
  "language_info": {
   "codemirror_mode": {
    "name": "ipython",
    "version": 3
   },
   "file_extension": ".py",
   "mimetype": "text/x-python",
   "name": "python",
   "nbconvert_exporter": "python",
   "pygments_lexer": "ipython3",
   "version": "3.6.7"
  }
 },
 "nbformat": 4,
 "nbformat_minor": 4
}